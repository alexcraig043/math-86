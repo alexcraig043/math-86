{
 "cells": [
  {
   "cell_type": "markdown",
   "metadata": {},
   "source": [
    "# M86 Homework 1\n",
    "\n",
    "## Alex Craig & Ganqi Li"
   ]
  },
  {
   "cell_type": "markdown",
   "metadata": {},
   "source": [
    "## Exercise 1\n",
    "\n",
    "### Wilmott Ch. 1 Questions"
   ]
  },
  {
   "cell_type": "markdown",
   "metadata": {},
   "source": [
    "#### Question 1.1\n",
    "A company makes a three-for-one stock split. What effect does this have on the share price?\n",
    "\n",
    "#### Answer\n",
    "The share price will decrease by a factor of three. So if the share price was $\\$90$ before the split, it will be $\\$30$ after the split. The total value of the shares will remain the same."
   ]
  },
  {
   "cell_type": "markdown",
   "metadata": {},
   "source": [
    "#### Question 1.2\n",
    "A company whose stock price is currently $S$ pays out a dividend $DS$, where $0 \\leq D \\leq 1$. What is the price of the stock just after the dividend date?\n",
    "\n",
    "#### Answer\n",
    "If the stock price is $\\$100$ and the dividend is $0.01$, the price of the stock after the dividend date will be $S - DS = \\$100 - \\$100 \\times 0.01 = \\$99$."
   ]
  },
  {
   "cell_type": "markdown",
   "metadata": {},
   "source": [
    "#### Question 1.3\n",
    "The dollar sterling exchange rate (colloquially known as 'cable') is $1.83$, $£1 = \\$1.83$. The sterling euro exchange rate is $1.41$, $£1 = \\text{€}1.41$. The dollar euro exchange rate is $0.77$, $\\$1 = \\text{€}0.77$. Is there an arbitrage, and if so, how does it work?\n",
    "\n",
    "#### Answer\n",
    "Let us test if there is an arbitrage opportunity. Let's start with $\\$1$.\n",
    "\n",
    "$\\$1 \\rightarrow £\\frac{1}{1.83} \\rightarrow \\text{€}\\frac{1.41}{1.83} \\rightarrow \\$\\frac{1.41}{1.83 \\times 0.77} = \\$\\frac{1.41}{1.4091} = \\$1.0006387$\n",
    "\n",
    "So we have made a profit of $\\$0.0006387$. Very small, but still an arbitrage opportunity. The exchange fees would probably eat up the profit, but if we had a large amount of money, we might make a profit.\n",
    "\n",
    "Another way to represent the conversion is:\n",
    "\n",
    "$\\$1 \\times \\frac{£1}{\\$1.83} \\times \\frac{\\text{€}1.41}{£1} \\times \\frac{\\$1}{\\text{€}0.77} = \\$1.0006387$"
   ]
  },
  {
   "cell_type": "markdown",
   "metadata": {},
   "source": [
    "#### Question 1.5\n",
    "A spot exchange rate is currently $2.350$. The one-month forward is $2.362$. What is the one-month interest rate assuming there is no arbitrage?\n",
    "\n",
    "#### Answer\n",
    "The one-month interest rate is $\\frac{2.362 - 2.350}{2.350} = 0.005106383$ or $0.5106383\\%$.\n",
    "\n",
    "Another way to calculate is the following: \n",
    "$$\n",
    "2.362 = 2.350 \\times e^r \\Rightarrow r = \\ln(\\frac{2.362}{2.350}) = 0.0050933896191\n",
    "$$\n",
    "\n",
    "This gives us approximately the same answer. The difference is due to one being a continuous rate and the other being a discrete rate."
   ]
  },
  {
   "cell_type": "markdown",
   "metadata": {},
   "source": [
    "#### Question 1.6\n",
    "A particular forward contract costs nothing to enter into at time $t$ and obliges the holder to buy the asset for an amount $F$ at expiry $T$. The asset pays a dividend $DS$ at time $t_d$, where $0 \\leq D \\leq 1$ and $t \\leq t_d \\leq T$. Use an arbitrage argument to ﬁnd the forward price $F(t)$. \n",
    "\n",
    "Hint: Consider the point of view of the writer of the contract when the dividend is reinvested immediately in the asset.\n",
    "\n",
    "#### Answer\n",
    "\n",
    "The value of the dividend including interest rate can be represented as $DS(t_d) \\times e^{r(T - t_d)}$. For no-arbitrage, the party entering the forward must be compensated for this opportunity cost, so the forward price will be the interest-adjusted price of the underlying stock minus the interest-adjusted price of the dividend, or $F(t) = S(t) \\times e ^{r(T - t)} - DS(t_d) \\times e^{r(T - t_d)}$."
   ]
  },
  {
   "cell_type": "markdown",
   "metadata": {},
   "source": [
    "## Exercise 2\n",
    "\n",
    "### Wilmott Ch. 2 Questions"
   ]
  },
  {
   "cell_type": "markdown",
   "metadata": {},
   "source": [
    "#### Question 2.1\n",
    "Find the value of the following portfolios of options at expiry, as a function of the share price:\n",
    "\n",
    "#### 2.1b\n",
    "Long one call and one put, both with exercise price $E$.\n",
    "\n",
    "#### Answer\n",
    "This is a straddle. The value of the call is $C = \\max(S - E, 0)$ and the value of the put is $P = \\max(E - S, 0)$. The value of the portfolio is $C + P = \\max(S - E, 0) + \\max(E - S, 0) = \\max(S - E, E - S, 0) = |S - E|$.\n",
    "\n",
    "![2.1b](./images/2.1b.png)\n",
    "\n",
    "#### 2.1c\n",
    "Long one call, exercise price $E_1$, short one call, exercise price $E_2$, where $E_1 < E_2$.\n",
    "\n",
    "#### Answer\n",
    "This is a bull spread. The value of the portfolio is $C_1 - C_2 = \\max(S - E_1, 0) - \\max(S - E_2, 0)$.\n",
    "\n",
    "![2.1c](./images/2.1c.png)\n",
    "\n",
    "#### 2.1d\n",
    "Long one call at exercise price $E_1$, long one put at exercise price $E_2$ . There are three cases to consider.\n",
    "\n",
    "#### Answer\n",
    "\n",
    "In all three cases, the value of the portfolio is $C + P = \\max(S - E_1, 0) + \\max(E_2 - S, 0)$.\n",
    "\n",
    "Case 1: $E_1 < E_2$\n",
    "\n",
    "![2.1d - Case 1](./images/2.1d_1.png)\n",
    "\n",
    "Case 2: $E_1 > E_2$\n",
    "\n",
    "![2.1d - Case 2](./images/2.1d_2.png)\n",
    "\n",
    "Case 3: $E_1 = E_2$\n",
    "\n",
    "![2.1d - Case 3](./images/2.1d_3.png)"
   ]
  },
  {
   "cell_type": "markdown",
   "metadata": {},
   "source": [
    "#### Question 2.2\n",
    "What is the difference between a payoff diagram and a proﬁt diagram? Illustrate with a portfolio of short one share, long two calls with exercise price $E$.\n",
    "\n",
    "#### Answer\n",
    "\n"
   ]
  },
  {
   "cell_type": "markdown",
   "metadata": {},
   "source": [
    "#### Question 2.3\n",
    "A share currently trades at $\\$60$. A European call with exercise price $\\$58$ and expiry in three months trades at $\\$3$. The three month default-free discount rate is $5\\%$. A put is offered on the market, with exercise price $\\$58$ and expiry in three months, for $\\$1.50$. Do any arbitrage opportunities now exist? If there is a possible arbitrage, then construct a portfolio that will take advantage of it. (This is an application of put-call parity.)\n",
    "\n",
    "#### Answer\n",
    "\n",
    "Under the **put-call parity**, if we long a share, long a put and short a call, we can simulate the performance of cash plus interest that has an expected value of the strike price. So $S(t) + P(t) -C(t) = PV_t(E)$, where $E$ is the strike price, $S$ is the stock, $P$ is the put, $C$ is the call, and $PV_t$ is the discounted value of the strike price at time $t$.\n",
    "\n",
    "On the left-hand-side, $S(t) + P(t) -C(t) = 60+1.5-3 = \\$58.5$. On the right-hand-side, given $r = 0.05$, we have $PV_t(E) = PV_t(58) = 58 \\cdot \\frac{1}{e^{0.05}} \\approx \\$ 55.17$. Since $\\$58.5 > \\$ 55.17$, an arbitrage opportunity exists because the LHS is overpriced.\n",
    "\n",
    "We can carry out a **\"reverse conversion\"** and take advantage of the arbitrage if we short a share and a put, and long a call."
   ]
  },
  {
   "cell_type": "markdown",
   "metadata": {},
   "source": [
    "#### Question 2.4\n",
    "A three-month, 80 strike, European call option is worth $\\$11.91$. The 90 call is $\\$4.52$ and the 100 call is $\\$1.03$. How much is the butterﬂy spread?\n",
    "\n",
    "#### Answer\n",
    "\n",
    "We can construct a butterfly spread if we buy an 80 and a 100 call, and write two 90 calls. So the price will be $11.91+1.03-2 \\cdot 4.52 = \\$3.9$"
   ]
  }
 ],
 "metadata": {
  "kernelspec": {
   "display_name": "Python 3 (ipykernel)",
   "language": "python",
   "name": "python3"
  },
  "language_info": {
   "codemirror_mode": {
    "name": "ipython",
    "version": 3
   },
   "file_extension": ".py",
   "mimetype": "text/x-python",
   "name": "python",
   "nbconvert_exporter": "python",
   "pygments_lexer": "ipython3",
   "version": "3.11.4"
  }
 },
 "nbformat": 4,
 "nbformat_minor": 2
}

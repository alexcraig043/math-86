{
 "cells": [
  {
   "cell_type": "markdown",
   "metadata": {},
   "source": [
    "# M86 Homework 2\n",
    "\n",
    "## Alex Craig & Ganqi Li"
   ]
  },
  {
   "cell_type": "markdown",
   "metadata": {},
   "source": [
    "## Exercise 1\n",
    "### Wilmott, Chapter 3, Problem 8\n",
    "\n",
    "A share price is currently $\\$180$. At the end of one year, it will be either $\\$203$ or $\\$152$. The risk-free interest rate is $3\\%$ p.a. with continuous compounding. Consider an American put on this underlying. Find the exercise price for which holding the option for the year is equivalent to exercising immediately. This is the break-even exercise price. What effect would a decrease in the interest rate have on this break-even price?"
   ]
  },
  {
   "cell_type": "markdown",
   "metadata": {},
   "source": [
    "### Solution (NEED TO DOUBLE-CKECK)\n",
    "\n",
    "Let's denote:\n",
    "- $S_0 = \\$180$ as the current share price,\n",
    "- $S_u = \\$203$ as the share price at the end of the year if it goes up,\n",
    "- $S_d = \\$152$ as the share price at the end of the year if it goes down,\n",
    "- $r = 3\\%$ as the continuous compounding annual risk-free interest rate,\n",
    "- $K$ as the exercise price of the American put option.\n",
    "\n",
    "The value of exercising the option immediately is $V_0 = K - S_0$. We know $K \\geq S_0$, or else exercising immediately yields a negative return, while holding the put for a year yields a minimum return of 0 if the put is not exercised, and no equivalence can be formed.\n",
    "\n",
    "The value of the option at the end of the year in each scenario is:\n",
    "- If the price goes up: $V_u = \\max(K - S_u, 0)$,\n",
    "- If the price goes down: $V_d = \\max(K - S_d, 0)$.\n",
    "\n",
    "The present/discounted value of the option exercised at the end of the year ($T = 1$) at rate $r$, for both upward and downward movements, is given by:\n",
    "\n",
    "$$\n",
    "PV_u = V_u \\cdot e^{-r} = \\max(K - S_u, 0) \\cdot e^{-r}\n",
    "$$\n",
    "$$\n",
    "PV_d = V_d \\cdot e^{-r} = \\max(K - S_d, 0) \\cdot e^{-r}\n",
    "$$\n",
    "\n",
    "We first find the risk-neutral probabilities for the share price going up, denoted as $q_u$ and going down, denoted as $q_d$.\n",
    "\n",
    "The up-factor, denoted as $u$, and the down-factor, denoted as $d$, are given by:\n",
    "\n",
    "$$\n",
    "u = \\frac{S_u}{S_0} = \\frac{203}{180} = 1.127778, \\quad d = \\frac{S_d}{S_0} = \\frac{152}{180} = 0.844444\n",
    "$$\n",
    "\n",
    "The risk-neutral probabilities are given by:\n",
    "\n",
    "$$\n",
    "q_u = \\frac{e^{r} - d}{u - d} = \\frac{e^{0.03} - 152}{203 - 152} = 0.656506\n",
    "$$\n",
    "\n",
    "$$\n",
    "q_d = 1 - q_u = 0.343494\n",
    "$$\n",
    "\n",
    "The method given in Wilmott, Ch.3, p.72, for finding the risk-neutral probabilities is as follows:\n",
    "\n",
    "$$\n",
    "e^{-r} \\cdot (q_u \\cdot S_u + (1 - q_u) \\cdot S_d) = S_0\n",
    "$$\n",
    "\n",
    "$$\n",
    "e^{-0.03} \\cdot (q_u \\cdot 203 + (1 - q_u) \\cdot 152) = 180\n",
    "$$\n",
    "\n",
    "$$\n",
    "q_u = 0.656506, \\quad q_d = (1 - q_u) = 0.343494\n",
    "$$\n",
    "\n",
    "\n",
    "To find the break-even exercise price $K$ for which holding the option for the year is equivalent to exercising immediately, we set the immediate exercise value equal to the present value of exercising at the end of the year.\n",
    "\n",
    "Thus, the equation to solve for $K$ is:\n",
    "\n",
    "$$\n",
    "K - S_0 = e^{-r} (q_u \\cdot \\max(K - S_u, 0) + q_d \\cdot \\max(K - S_d, 0))\n",
    "$$\n",
    "\n",
    "\n",
    "$$\n",
    "K - 180 = e^{-0.03} (0.656506 \\cdot \\max(K - 203, 0) + 0.343494 \\cdot \\max(K - 152, 0))\n",
    "$$\n",
    "\n",
    "Using the solver on WolframAlpha, we get the **break-even strike price, $K = \\$194$**.\n",
    "\n",
    "\n",
    "\n",
    "<!-- % Solving for $K$:\n",
    "\n",
    "% $$\n",
    "% K - S_0 = (K - S_d) \\cdot e^{-r} \\Rightarrow K - S_0 = K \\cdot e^{-r} - S_d \\cdot e^{-r} \n",
    "% $$\n",
    "% $$\n",
    "% \\Rightarrow K - K \\cdot e^{-r} = S_0 - S_d \\cdot e^{-r} \\Rightarrow K \\cdot (1 - e^{-r}) = S_0 - S_d \\cdot e^{-r} \n",
    "% $$\n",
    "% $$\n",
    "% \\Rightarrow K = \\frac{S_0 - S_d \\cdot e^{-r}}{1 - e^{-r}}\n",
    "% $$\n",
    "\n",
    "% Now we can calculate the break-even exercise price $K$:\n",
    "\n",
    "% $$\n",
    "% K = \\frac{180 - 152 \\cdot e^{-0.03}}{1 - e^{-0.03}} \\approx \n",
    "% $$\n",
    "\n",
    "% **Giving ridiculous answer, need to check the math** -->"
   ]
  },
  {
   "cell_type": "markdown",
   "metadata": {},
   "source": [
    "## Exercise 2\n",
    "### Wilmott, Chapter 7, Problems 1, 8, 9"
   ]
  },
  {
   "cell_type": "markdown",
   "metadata": {},
   "source": [
    "#### Question 7.1\n",
    "Consider an option with value $V(S, t)$, which has payoff at time $T$. Reduce the Black–Scholes equation, with final and boundary conditions, to the diffusion equation, using the following transformations: \n",
    "\n",
    "#### (a)\n",
    "$S = E e^x, \\quad t = T - \\frac{2 \\tau}{\\sigma^2}, \\quad V(S, t) = Ev(x, \\tau)$\n",
    "\n",
    "#### (b)\n",
    "$v = e^{\\alpha x + \\beta t} u(x, \\tau)$\n",
    "\n",
    "For some $\\alpha$ and $\\beta$. What is the transformed payoff? What are the new initial and boundary conditions? Illustrate with a vanilla European call option."
   ]
  },
  {
   "cell_type": "markdown",
   "metadata": {},
   "source": [
    "#### Solution: \n",
    "\n",
    "#### (a)\n",
    "\n",
    "# TBD\n",
    "\n",
    "#### (b)\n",
    "\n",
    "# TBD"
   ]
  },
  {
   "cell_type": "markdown",
   "metadata": {},
   "source": [
    "#### Question 7.8\n",
    "Show that if\n",
    "\n",
    "$\\frac{\\partial U}{\\partial \\tau} = \\frac{\\partial^2 U}{\\partial x^2}$, on $-\\infty < x < \\infty$, $\\tau>0$, \n",
    "\n",
    "with\n",
    "\n",
    "$u(x,0) = u_0(x) > 0$, \n",
    "\n",
    "then $u(x,\\tau) > 0$ for all $\\tau$.\n",
    "\n",
    "Use this result to show that an option with positive payoff will always have a positive value.\n"
   ]
  },
  {
   "cell_type": "markdown",
   "metadata": {},
   "source": [
    "#### Solution: \n",
    "\n",
    "# TBD"
   ]
  },
  {
   "cell_type": "markdown",
   "metadata": {},
   "source": [
    "#### Question 7.9\n",
    "If $f(x, \\tau) \\geq 0$ in the initial value problem\n",
    "\n",
    "$\\frac{\\partial U}{\\partial \\tau} = \\frac{\\partial^2 U}{\\partial x^2} + f(x, \\tau)$, on $-\\infty < x < \\infty$, $\\tau>0$, \n",
    "\n",
    "with\n",
    "\n",
    "$u(x,0) = 0$, and $u \\to 0$ as $|x| \\to \\infty$, \n",
    "\n",
    "then $u(x, \\tau) \\geq 0$. Hence show that if $C_1$ and $C_2$ are European calls with volatilities $\\sigma_1$ and $\\sigma_2$ respectively, but are otherwise identical, then $C_1 > C_2$ if $\\sigma_1 > \\sigma_2$. \n",
    "\n",
    "Use put-call parity to show that the same is true for European puts.\n",
    "\n"
   ]
  },
  {
   "cell_type": "markdown",
   "metadata": {},
   "source": [
    "#### Solution: \n",
    "\n",
    "# TBD"
   ]
  },
  {
   "cell_type": "markdown",
   "metadata": {},
   "source": [
    "## Exercise 3\n",
    "\n",
    "Suppose $W_t$ and $Z_t$ are two independent Brownian motions. This means that each satisfies the 4 defining properties of Brownian motion and the increments $Z_t - Z_s$ and $W_t - W_s$ are independent random variables for all $0 \\leq s < t$. For a constant $\\rho$ with $-1 \\leq \\rho \\leq 1$, consider the random process:\n",
    "\n",
    "$$\n",
    "X_t = \\rho W_t + \\sqrt{1 - \\rho^2} Z_t.\n",
    "$$\n",
    "\n",
    "Is $X_t$ a Brownian motion? Explain your answer."
   ]
  },
  {
   "cell_type": "markdown",
   "metadata": {},
   "source": [
    "#### Solution\n",
    "\n",
    "The four conditions of Brownian motion are:\n",
    "\n",
    "1. $W_0 = 0$\n",
    "\n",
    "2. The distribution of the increment ${W_t}_2 - {W_t}_1, \\quad 0 \\leq t_1 \\leq t_2$ is normal with mean $0$ and variance $t_2 - t_1$\n",
    "\n",
    "3. For non-overlapping intervals $t_1 < t_2 \\leq t_3 < t_4$, the increments ${W_t}_2 - {W_t}_1$ and ${W_t}_4 - {W_t}_3$ are independent random variables\n",
    "\n",
    "4. The function $t \\to W_t$ is almost surely continuous\n",
    "\n",
    "Let's go through each of these conditions for the process $X_t = \\rho W_t + \\sqrt{1 - \\rho^2} Z_t$:\n",
    "\n",
    "1. $X_0 = \\rho W_0 + \\sqrt{1 - \\rho^2} Z_0 = \\rho \\cdot 0 + \\sqrt{1 - \\rho^2} \\cdot 0 = 0$. This condition is satisfied.\n",
    "\n",
    "2. The distribution of the increment ${X_t}_2 - {X_t}_1, \\quad 0 \\leq t_1 \\leq t_2$ is normal with mean $0$ and variance $t_2 - t_1$:   \n",
    "\n",
    "$$\n",
    "{X_t}_2 - {X_t}_1 = \\rho (W_{t_2} - W_{t_1}) + \\sqrt{1 - \\rho^2} (Z_{t_2} - Z_{t_1})\n",
    "$$\n",
    "\n",
    "Let's take the expectation and variance of this increment:\n",
    "\n",
    "$$\n",
    "E[{X_t}_2 - {X_t}_1] = \\rho E[W_{t_2} - W_{t_1}] + \\sqrt{1 - \\rho^2} E[Z_{t_2} - Z_{t_1}] = \\rho \\cdot 0 + \\sqrt{1 - \\rho^2} \\cdot 0 = 0\n",
    "$$\n",
    "\n",
    "$$\n",
    "Var[{X_t}_2 - {X_t}_1] = \\rho^2 Var[W_{t_2} - W_{t_1}] + (1 - \\rho^2) Var[Z_{t_2} - Z_{t_1}] = \\rho^2 (t_2 - t_1) + (1 - \\rho^2) (t_2 - t_1) = t_2 - t_1\n",
    "$$\n",
    "\n",
    "3. For non-overlapping intervals $t_1 < t_2 \\leq t_3 < t_4$, the increments ${X_t}_2 - {X_t}_1$ and ${X_t}_4 - {X_t}_3$ are independent random variables:\n",
    "\n",
    "$$\n",
    "{X_t}_2 - {X_t}_1 = \\rho (W_{t_2} - W_{t_1}) + \\sqrt{1 - \\rho^2} (Z_{t_2} - Z_{t_1}), \\quad {X_t}_4 - {X_t}_3 = \\rho (W_{t_4} - W_{t_3}) + \\sqrt{1 - \\rho^2} (Z_{t_4} - Z_{t_3})\n",
    "$$\n",
    "\n",
    "Given that $W_t$ and $Z_t$ describe Brownian motion, the increments ${W_t}_2 - {W_t}_1$ and ${W_t}_4 - {W_t}_3$ are independent random variables, and the increments ${Z_t}_2 - {Z_t}_1$ and ${Z_t}_4 - {Z_t}_3$ are independent random variables. Since $W_t$ and $Z_t$ are independent, the increments ${W_t}_2 - {W_t}_1$ and ${Z_t}_2 - {Z_t}_1$ are independent random variables. Therefore, the increments ${X_t}_2 - {X_t}_1$ and ${X_t}_4 - {X_t}_3$ are independent random variables.\n",
    "\n",
    "4. The function $t \\to X_t$ is almost surely continuous:\n",
    "\n",
    "The function $t \\to X_t$ is a linear combination of two Brownian motions, $W_t$ and $Z_t$, and is therefore continuous."
   ]
  },
  {
   "cell_type": "markdown",
   "metadata": {},
   "source": [
    "## Exercise 4\n",
    "\n",
    "If $W_t$ is the Wiener process, show that the limit\n",
    "\n",
    "$$\n",
    "\\lim_{\\Delta t \\to 0} \\frac{(\\Delta W)^2}{\\Delta t} = \\lim_{\\Delta t \\to 0} \\frac{(W_{t + \\Delta t}-W_t)^2}{\\Delta t}\n",
    "$$\n",
    "\n",
    "does not exist."
   ]
  },
  {
   "cell_type": "markdown",
   "metadata": {},
   "source": [
    "#### Solution: \n",
    "\n",
    "# TBD"
   ]
  },
  {
   "cell_type": "markdown",
   "metadata": {},
   "source": [
    "## Exercise 5\n",
    "\n",
    "Use Ito's Lemma to derive a formula for $\\int_{0}^{T} W^3 dW$."
   ]
  },
  {
   "cell_type": "markdown",
   "metadata": {},
   "source": [
    "#### Solution: \n",
    "\n",
    "# TBD"
   ]
  }
 ],
 "metadata": {
  "kernelspec": {
   "display_name": "Python 3 (ipykernel)",
   "language": "python",
   "name": "python3"
  },
  "language_info": {
   "codemirror_mode": {
    "name": "ipython",
    "version": 3
   },
   "file_extension": ".py",
   "mimetype": "text/x-python",
   "name": "python",
   "nbconvert_exporter": "python",
   "pygments_lexer": "ipython3",
   "version": "3.11.4"
  }
 },
 "nbformat": 4,
 "nbformat_minor": 2
}

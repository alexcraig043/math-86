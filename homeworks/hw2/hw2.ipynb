{
 "cells": [
  {
   "cell_type": "markdown",
   "metadata": {},
   "source": [
    "# M86 Homework 2\n",
    "\n",
    "## Alex Craig & Ganqi Li"
   ]
  },
  {
   "cell_type": "markdown",
   "metadata": {},
   "source": [
    "## Exercise 1\n",
    "### Wilmott, Chapter 3, Problem 8\n",
    "\n",
    "A share price is currently $\\$180$. At the end of one year, it will be either $\\$203$ or $\\$152$. The risk-free interest rate is $3\\%$ p.a. with continuous compounding. Consider an American put on this underlying. Find the exercise price for which holding the option for the year is equivalent to exercising immediately. This is the break-even exercise price. What effect would a decrease in the interest rate have on this break-even price?"
   ]
  },
  {
   "cell_type": "markdown",
   "metadata": {},
   "source": [
    "### Solution\n",
    "\n",
    "Let's denote:\n",
    "- $S_0 = \\$180$ as the current share price,\n",
    "- $S_u = \\$203$ as the share price at the end of the year if it goes up,\n",
    "- $S_d = \\$152$ as the share price at the end of the year if it goes down,\n",
    "- $r = 3\\%$ as the continuous compounding risk-free interest rate,\n",
    "- $K$ as the exercise price of the American put option.\n",
    "\n",
    "The value of exercising the option immediately is $V_0 = \\max(K - S_0, 0)$.\n",
    "\n",
    "The value of the option at the end of the year in each scenario is:\n",
    "- If the price goes up: $V_u = \\max(K - S_u, 0)$,\n",
    "- If the price goes down: $V_d = \\max(K - S_d, 0)$.\n",
    "\n",
    "The present/discounted value of the option exercised at the end of the year ($T = 1$) at rate $r$, for both upward and downward movements, is given by:\n",
    "\n",
    "$$\n",
    "PV_u = V_u \\cdot e^{-r} = \\max(K - S_u, 0) \\cdot e^{-r}\n",
    "$$\n",
    "$$\n",
    "PV_d = V_d \\cdot e^{-r} = \\max(K - S_d, 0) \\cdot e^{-r}\n",
    "$$\n",
    "\n",
    "To find the break-even exercise price $K$ for which holding the option for the year is equivalent to exercising immediately, we set the immediate exercise value equal to the present value of exercising at the end of the year.\n",
    "\n",
    "Thus, the equation to solve for $K$ is:\n",
    "\n",
    "$$\n",
    "K - S_0 = \\max(K - S_u, K - S_d) \\cdot e^{-r}\n",
    "$$\n",
    "\n",
    "We know that $S_u > S_d \\Rightarrow K - S_u < K - S_d$, so the equation becomes:\n",
    "\n",
    "$$\n",
    "K - S_0 = (K - S_d) \\cdot e^{-r}\n",
    "$$\n",
    "\n",
    "Solving for $K$:\n",
    "\n",
    "$$\n",
    "K - S_0 = (K - S_d) \\cdot e^{-r} \\Rightarrow K - S_0 = K \\cdot e^{-r} - S_d \\cdot e^{-r} \n",
    "$$\n",
    "$$\n",
    "\\Rightarrow K - K \\cdot e^{-r} = S_0 - S_d \\cdot e^{-r} \\Rightarrow K \\cdot (1 - e^{-r}) = S_0 - S_d \\cdot e^{-r} \n",
    "$$\n",
    "$$\n",
    "\\Rightarrow K = \\frac{S_0 - S_d \\cdot e^{-r}}{1 - e^{-r}}\n",
    "$$\n",
    "\n",
    "Now we can calculate the break-even exercise price $K$:\n",
    "\n",
    "$$\n",
    "K = \\frac{180 - 152 \\cdot e^{-0.03}}{1 - e^{-0.03}} \\approx \n",
    "$$\n",
    "\n",
    "**Giving ridiculous answer, need to check the math**"
   ]
  }
 ],
 "metadata": {
  "kernelspec": {
   "display_name": "Python 3",
   "language": "python",
   "name": "python3"
  },
  "language_info": {
   "name": "python",
   "version": "3.11.6"
  }
 },
 "nbformat": 4,
 "nbformat_minor": 2
}

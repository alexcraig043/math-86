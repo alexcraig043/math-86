{
 "cells": [
  {
   "cell_type": "markdown",
   "metadata": {},
   "source": [
    "# M86 Homework 2\n",
    "\n",
    "## Alex Craig & Ganqi Li"
   ]
  },
  {
   "cell_type": "markdown",
   "metadata": {},
   "source": [
    "## Exercise 1\n",
    "### Wilmott, Chapter 3, Problem 8\n",
    "\n",
    "A share price is currently $\\$180$. At the end of one year, it will be either $\\$203$ or $\\$152$. The risk-free interest rate is $3\\%$ p.a. with continuous compounding. Consider an American put on this underlying. Find the exercise price for which holding the option for the year is equivalent to exercising immediately. This is the break-even exercise price. What effect would a decrease in the interest rate have on this break-even price?"
   ]
  },
  {
   "cell_type": "markdown",
   "metadata": {},
   "source": [
    "### Solution (NEED TO DOUBLE-CKECK)\n",
    "\n",
    "Let's denote:\n",
    "- $S_0 = \\$180$ as the current share price,\n",
    "- $S_u = \\$203$ as the share price at the end of the year if it goes up,\n",
    "- $S_d = \\$152$ as the share price at the end of the year if it goes down,\n",
    "- $r = 3\\%$ as the continuous compounding annual risk-free interest rate,\n",
    "- $K$ as the exercise price of the American put option.\n",
    "\n",
    "The value of exercising the option immediately is $V_0 = K - S_0$. We know $K \\geq S_0$, or else exercising immediately yields a negative return, while holding the put for a year yields a minimum return of 0 if the put is not exercised.\n",
    "\n",
    "The value of the option at the end of the year in each scenario is:\n",
    "- If the price goes up: $V_u = \\max(K - S_u, 0)$,\n",
    "- If the price goes down: $V_d = \\max(K - S_d, 0)$.\n",
    "\n",
    "The present/discounted value of the option exercised at the end of the year ($T = 1$) at rate $r$, for both upward and downward movements, is given by:\n",
    "\n",
    "$$\n",
    "PV_u = V_u \\cdot e^{-r} = \\max(K - S_u, 0) \\cdot e^{-r}\n",
    "$$\n",
    "$$\n",
    "PV_d = V_d \\cdot e^{-r} = \\max(K - S_d, 0) \\cdot e^{-r}\n",
    "$$\n",
    "\n",
    "We first find the risk-neutral probabilities for the share price going up $p_u = p$ and going down $p_d = (1-p)$ by setting (Wilmott, Ch.3, p.72):\n",
    "\n",
    "$$\n",
    "e^{-r} \\cdot (p \\cdot S_u + (1-p) \\cdot S_d) = S_0\n",
    "$$\n",
    "\n",
    "$$\n",
    "e^{-0.03} \\cdot (p \\cdot 203 + (1-p) \\cdot 152) = 180\n",
    "$$\n",
    "\n",
    "$$\n",
    "p = 0.656506, \\quad (1-p) = 0.343494\n",
    "$$\n",
    "\n",
    "\n",
    "To find the break-even exercise price $K$ for which holding the option for the year is equivalent to exercising immediately, we set the immediate exercise value equal to the present value of exercising at the end of the year.\n",
    "\n",
    "Thus, the equation to solve for $K$ is:\n",
    "\n",
    "$$\n",
    "K - S_0 = e^{-r} \\cdot (p_u \\cdot \\max(K - S_u, 0) + p_d \\cdot \\max(K - S_d, 0))\n",
    "$$\n",
    "\n",
    "\n",
    "$$\n",
    "K - 180 = e^{-0.03} \\cdot (0.656506 \\cdot \\max(K - 203, 0) + 0.343494 \\cdot \\max(K - 152, 0))\n",
    "$$\n",
    "\n",
    "Using the solver on WolframAlpha, we get the **break-even strike price, $K = \\$194$**.\n",
    "\n",
    "\n",
    "\n",
    "<!-- % Solving for $K$:\n",
    "\n",
    "% $$\n",
    "% K - S_0 = (K - S_d) \\cdot e^{-r} \\Rightarrow K - S_0 = K \\cdot e^{-r} - S_d \\cdot e^{-r} \n",
    "% $$\n",
    "% $$\n",
    "% \\Rightarrow K - K \\cdot e^{-r} = S_0 - S_d \\cdot e^{-r} \\Rightarrow K \\cdot (1 - e^{-r}) = S_0 - S_d \\cdot e^{-r} \n",
    "% $$\n",
    "% $$\n",
    "% \\Rightarrow K = \\frac{S_0 - S_d \\cdot e^{-r}}{1 - e^{-r}}\n",
    "% $$\n",
    "\n",
    "% Now we can calculate the break-even exercise price $K$:\n",
    "\n",
    "% $$\n",
    "% K = \\frac{180 - 152 \\cdot e^{-0.03}}{1 - e^{-0.03}} \\approx \n",
    "% $$\n",
    "\n",
    "% **Giving ridiculous answer, need to check the math** -->"
   ]
  },
  {
   "cell_type": "markdown",
   "metadata": {},
   "source": [
    "## Exercise 2\n",
    "### Wilmott, Chapter 7, Problems 1, 8, 9"
   ]
  },
  {
   "cell_type": "markdown",
   "metadata": {},
   "source": [
    "#### Question 7.1\n",
    "Consider an option with value $V(S, t)$, which has payoff at time $T$. Reduce the Black–Scholes equation, with final and boundary conditions, to the diffusion equation, using the following transformations: \n",
    "\n",
    "#### (a)\n",
    "$S = E e^x, \\quad t = T - \\frac{2 \\tau}{\\sigma^2}, \\quad V(S, t) = Ev(x, \\tau)$\n",
    "\n",
    "#### (b)\n",
    "$v = e^{\\alpha x + \\beta t} u(x, \\tau)$\n",
    "\n",
    "For some $\\alpha$ and $\\beta$. What is the transformed payoff? What are the new initial and boundary conditions? Illustrate with a vanilla European call option."
   ]
  },
  {
   "cell_type": "markdown",
   "metadata": {},
   "source": [
    "#### Solution: \n",
    "\n",
    "# TBD"
   ]
  },
  {
   "cell_type": "markdown",
   "metadata": {},
   "source": [
    "#### Question 7.8\n",
    "Show that if\n",
    "\n",
    "$\\frac{\\partial U}{\\partial \\tau} = \\frac{\\partial^2 U}{\\partial x^2}$, on $-\\infty < x < \\infty$, $\\tau>0$, \n",
    "\n",
    "with\n",
    "\n",
    "$u(x,0) = u_0(x) > 0$, \n",
    "\n",
    "then $u(x,\\tau) > 0$ for all $\\tau$.\n",
    "\n",
    "Use this result to show that an option with positive payoff will always have a positive value.\n"
   ]
  },
  {
   "cell_type": "markdown",
   "metadata": {},
   "source": [
    "#### Solution: \n",
    "\n",
    "# TBD"
   ]
  },
  {
   "cell_type": "markdown",
   "metadata": {},
   "source": [
    "#### Question 7.9\n",
    "If $f(x, \\tau) \\geq 0$ in the initial value problem\n",
    "\n",
    "$\\frac{\\partial U}{\\partial \\tau} = \\frac{\\partial^2 U}{\\partial x^2} + f(x, \\tau)$, on $-\\infty < x < \\infty$, $\\tau>0$, \n",
    "\n",
    "with\n",
    "\n",
    "$u(x,0) = 0$, and $u \\to 0$ as $|x| \\to \\infty$, \n",
    "\n",
    "then $u(x, \\tau) \\geq 0$. Hence show that if $C_1$ and $C_2) are European calls with volatilities $\\sigma_1$ and $\\sigma_2$ respectively, but are otherwise identical, then $C_1 > C_2$ if $\\sigma_1 > \\sigma_2$. \n",
    "\n",
    "Use put-call parity to show that the same is true for European puts.\n",
    "\n"
   ]
  },
  {
   "cell_type": "markdown",
   "metadata": {},
   "source": [
    "#### Solution: \n",
    "\n",
    "# TBD"
   ]
  }
 ],
 "metadata": {
  "kernelspec": {
   "display_name": "Python 3 (ipykernel)",
   "language": "python",
   "name": "python3"
  },
  "language_info": {
   "codemirror_mode": {
    "name": "ipython",
    "version": 3
   },
   "file_extension": ".py",
   "mimetype": "text/x-python",
   "name": "python",
   "nbconvert_exporter": "python",
   "pygments_lexer": "ipython3",
   "version": "3.11.4"
  }
 },
 "nbformat": 4,
 "nbformat_minor": 2
}

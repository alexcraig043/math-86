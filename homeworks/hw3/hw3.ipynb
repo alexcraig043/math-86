{
 "cells": [
  {
   "cell_type": "markdown",
   "metadata": {},
   "source": [
    "# M86 Homework 3\n",
    "\n",
    "## Alex Craig & Ganqi Li"
   ]
  },
  {
   "cell_type": "markdown",
   "metadata": {},
   "source": [
    "## Exercise 1\n",
    "### Wilmott, Chapter 8, Problems 1, 2, 9, 14"
   ]
  },
  {
   "cell_type": "markdown",
   "metadata": {},
   "source": [
    "#### Question 8.1\n",
    "Find the explicit value for the value of a European call option with payoff $\\Lambda(S)$ and expiry time $T$, where:\n",
    "\n",
    "$$\n",
    "\\Lambda(S) = \\begin{cases}\n",
    "S & \\text{if } S > E \\\\\n",
    "0 & \\text{if } S < E\n",
    "\\end{cases}\n",
    "$$"
   ]
  },
  {
   "cell_type": "markdown",
   "metadata": {},
   "source": [
    "#### Solution"
   ]
  }
 ],
 "metadata": {
  "language_info": {
   "name": "python"
  }
 },
 "nbformat": 4,
 "nbformat_minor": 2
}

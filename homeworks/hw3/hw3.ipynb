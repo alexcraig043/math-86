{
 "cells": [
  {
   "cell_type": "markdown",
   "metadata": {},
   "source": [
    "# M86 Homework 3\n",
    "\n",
    "## Alex Craig & Ganqi Li"
   ]
  },
  {
   "cell_type": "markdown",
   "metadata": {},
   "source": [
    "## Exercise 1\n",
    "### Wilmott, Chapter 8, Problems 1, 2, 9, 14"
   ]
  },
  {
   "cell_type": "markdown",
   "metadata": {},
   "source": [
    "#### Question 8.1\n",
    "Find the explicit value for the value of a European call option with payoff $\\Lambda(S)$ and expiry time $T$, where:\n",
    "\n",
    "$$\n",
    "\\Lambda(S) = \\begin{cases}\n",
    "S & \\text{if } S > E \\\\\n",
    "0 & \\text{if } S < E\n",
    "\\end{cases}\n",
    "$$"
   ]
  },
  {
   "cell_type": "markdown",
   "metadata": {},
   "source": [
    "#### Solution\n",
    "\n",
    "The formula for the price of a European call option using the Black-Scholes formula is:\n",
    "\n",
    "$$\n",
    "C(S, t) = S_0 N(d_1) - E e^{-r(T-t)} N(d_2)\n",
    "$$\n",
    "\n",
    "where:\n",
    "- $C(S, t)$ is the price of the call option when the underlying asset's price is $S$ at time $t$.\n",
    "- $S_0$ is the current price of the underlying asset.\n",
    "- $E$ is the strike price of the option.\n",
    "- $T$ is the time to expiry of the option.\n",
    "- $r$ is the risk-free interest rate.\n",
    "- $N(\\cdot)$ is the cumulative distribution function of the standard normal distribution.\n",
    "- $d_1$ and $d_2$ are given by:\n",
    "\n",
    "$$\n",
    "d_1 = \\frac{\\ln(\\frac{S_0}{E}) + (r + \\frac{\\sigma^2}{2})(T-t)}{\\sigma\\sqrt{T-t}}\n",
    "$$\n",
    "\n",
    "$$\n",
    "d_2 = d_1 - \\sigma\\sqrt{T-t}\n",
    "$$\n",
    "\n",
    "- $\\sigma$ is the volatility of the underlying asset's returns."
   ]
  },
  {
   "cell_type": "markdown",
   "metadata": {},
   "source": [
    "#### Question 8.2\n",
    "Find the explicit solution for the value of a European supershare option, with expiry at time $T$ and payoff:\n",
    "\n",
    "$$\n",
    "\\Lambda(S) = \\mathcal{H}(S - E_1) - \\mathcal{H}(S - E_2)\n",
    "$$\n",
    "\n",
    "where $E_1 < E_2$"
   ]
  },
  {
   "cell_type": "markdown",
   "metadata": {},
   "source": [
    "#### Solution"
   ]
  },
  {
   "cell_type": "markdown",
   "metadata": {},
   "source": [
    "#### Question 8.9\n",
    "\n",
    "A forward start call option is specified as follows: at time $T_1$, the holder is given a European call option with exercise price $S(T_1)$ and expiry at time $T_1 + T_2$. What is the value of the option for $0 \\leq t \\leq T_1$?"
   ]
  },
  {
   "cell_type": "markdown",
   "metadata": {},
   "source": [
    "#### Solution"
   ]
  },
  {
   "cell_type": "markdown",
   "metadata": {},
   "source": [
    "#### Question 8.14\n",
    "\n",
    "Use put-call parity to find the relationships between deltas, gammas, vegas, thetas, and rhos for European call and put options."
   ]
  },
  {
   "cell_type": "markdown",
   "metadata": {},
   "source": [
    "#### Solution"
   ]
  },
  {
   "cell_type": "markdown",
   "metadata": {},
   "source": [
    "## Exercise 2\n",
    "\n",
    "The Breeden-Litzenberger formula for the pdf $\\phi(x)$ of the future price $S_T$ under the risk-neutral measure $Q$ is given by\n",
    "$$\n",
    "\\phi(x) = \\frac{\\partial^2C}{\\partial K^2}\n",
    "$$\n",
    "where $C = C(K, T)$ is the market price of a call option as a function of strike $K$ and expiration $T$.\n",
    "\n",
    "#### (a)\n",
    "For a stock of your choice, choose the nearest available expiration date that is at least 4 weeks in the future and download the call prices for all strikes at that expiration. Use the package \\texttt{scipy.interpolate.CubicSpline} to interpolate the list of call prices using a “natural” cubic spline (use \\texttt{bc\\_type}). Use the mid prices (average of bid and ask). Plot the prices and the interpolating spline in a single graph.\n",
    "\n",
    "#### (b)\n",
    "Use `scipy.interpolate.CubicSpline.derivative` to create a plot of the second derivative $\\frac{\\partial^2C}{\\partial K^2}$ of the cubic spline. This graph is a representation of the risk-neutral density for the stock price $S_T$ that is implicit in the market prices of the call options.\n",
    "\n",
    "#### (c)\n",
    "Create a second plot with a logarithmic x-axis. Does the distribution seem log-normal or is it skewed (and if so in which direction)?"
   ]
  },
  {
   "cell_type": "markdown",
   "metadata": {},
   "source": [
    "## Exercise 3\n",
    "\n",
    "#### (a)\n",
    "Implement a function that calculates implied volatility using Newton's method. For example, you can follow Wilmot's sample code. Plot the implied volatilities of the call options you used in the previous problem. As interest rate, use the rate of a US Treasury bond with expiration close to the expiration of your call options (e.g., 1 month). Note that Newton's method may or may not converge depending on your initial guess for the volatility. You may need to experiment to get your code to converge for all prices in your range.\n",
    "\n",
    "#### (b)\n",
    "Plot the volatility smile for your call options.\n",
    "\n",
    "#### (c)\n",
    "Do you see a connection between features of the risk-neutral price distribution you found in the previous problem and the shape of the smile?"
   ]
  }
 ],
 "metadata": {
  "kernelspec": {
   "display_name": "Python 3",
   "language": "python",
   "name": "python3"
  },
  "language_info": {
   "name": "python",
   "version": "3.11.6"
  }
 },
 "nbformat": 4,
 "nbformat_minor": 2
}

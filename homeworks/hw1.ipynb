{
 "cells": [
  {
   "cell_type": "markdown",
   "metadata": {},
   "source": [
    "# M86 Homework 1\n",
    "\n",
    "## Alex Craig & Ganqi Li"
   ]
  },
  {
   "cell_type": "markdown",
   "metadata": {},
   "source": [
    "## Exercise 1"
   ]
  },
  {
   "cell_type": "markdown",
   "metadata": {},
   "source": [
    "### Wilmott Ch. 1 Questions\n",
    "\n",
    "#### Question 1.1\n",
    "A company makes a three-for-one stock split. What effect does this have on the share price?\n",
    "\n",
    "#### Answer\n",
    "The share price will decrease by a factor of three. So if the share price was $\\$90$ before the split, it will be $\\$30$ after the split. The total value of the shares will remain the same."
   ]
  },
  {
   "cell_type": "markdown",
   "metadata": {},
   "source": [
    "#### Question 1.2\n",
    "A company whose stock price is currently $S$ pays out a dividend $DS$, where $0 \\leq D \\leq 1$. What is the price of the stock just after the dividend date?\n",
    "\n",
    "#### Answer\n",
    "The price of the stock after the dividend date will be $S' = S - DS$. So if the stock price is $100 and the dividend is $0.50, the price of the stock after the dividend date will be $S' = \\$100 - \\$0.50 = \\$99.50$."
   ]
  },
  {
   "cell_type": "markdown",
   "metadata": {},
   "source": [
    "#### Question 1.3\n",
    "The dollar sterling exchange rate (colloquially known as 'cable') is $1.83$, $£1 = \\$1.83$. The sterling euro exchange rate is $1.41$, $£1 = €1.41$. The dollar euro exchange rate is $0.77$, $\\$1 = €0.77$. Is there an arbitrage, and if so, how does it work?\n",
    "\n",
    "#### Answer\n",
    "Let us test if there is an arbitrage opportunity. Let's start with $\\$1$.\n",
    "\n",
    "$\\$1 \\rightarrow £\\frac{1}{1.83} \\rightarrow €\\frac{1.41}{1.83} \\rightarrow \\$\\frac{1.41}{1.83 \\times 0.77} = \\$\\frac{1.41}{1.4091} = \\$1.0006387$\n",
    "\n",
    "So we have made a profit of $\\$0.0006387$."
   ]
  }
 ],
 "metadata": {
  "language_info": {
   "name": "python"
  }
 },
 "nbformat": 4,
 "nbformat_minor": 2
}
